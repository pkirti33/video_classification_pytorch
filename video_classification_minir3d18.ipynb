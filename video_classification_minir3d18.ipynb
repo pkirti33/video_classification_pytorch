{
  "nbformat": 4,
  "nbformat_minor": 0,
  "metadata": {
    "colab": {
      "provenance": [],
      "gpuType": "T4",
      "authorship_tag": "ABX9TyNKZ6luw1JrPc51NIQ5Fapc",
      "include_colab_link": true
    },
    "kernelspec": {
      "name": "python3",
      "display_name": "Python 3"
    },
    "language_info": {
      "name": "python"
    },
    "accelerator": "GPU",
    "widgets": {
      "application/vnd.jupyter.widget-state+json": {
        "fcb161276add4a80850d48fa4ecf1bad": {
          "model_module": "@jupyter-widgets/controls",
          "model_name": "HBoxModel",
          "model_module_version": "1.5.0",
          "state": {
            "_dom_classes": [],
            "_model_module": "@jupyter-widgets/controls",
            "_model_module_version": "1.5.0",
            "_model_name": "HBoxModel",
            "_view_count": null,
            "_view_module": "@jupyter-widgets/controls",
            "_view_module_version": "1.5.0",
            "_view_name": "HBoxView",
            "box_style": "",
            "children": [
              "IPY_MODEL_1db5c4104f0743c3b0e266ccb1349c34",
              "IPY_MODEL_cc3ee8bc01cc4f69b4b010f1c09a94e2",
              "IPY_MODEL_20d7483612224ffba33c99321549348b"
            ],
            "layout": "IPY_MODEL_939ed4a815d1469e81cc83356a249ea5"
          }
        },
        "1db5c4104f0743c3b0e266ccb1349c34": {
          "model_module": "@jupyter-widgets/controls",
          "model_name": "HTMLModel",
          "model_module_version": "1.5.0",
          "state": {
            "_dom_classes": [],
            "_model_module": "@jupyter-widgets/controls",
            "_model_module_version": "1.5.0",
            "_model_name": "HTMLModel",
            "_view_count": null,
            "_view_module": "@jupyter-widgets/controls",
            "_view_module_version": "1.5.0",
            "_view_name": "HTMLView",
            "description": "",
            "description_tooltip": null,
            "layout": "IPY_MODEL_a53486fbaad049448c9e602049e59966",
            "placeholder": "​",
            "style": "IPY_MODEL_99335251942f42e2a0d8c4698af6d9ee",
            "value": "100%"
          }
        },
        "cc3ee8bc01cc4f69b4b010f1c09a94e2": {
          "model_module": "@jupyter-widgets/controls",
          "model_name": "FloatProgressModel",
          "model_module_version": "1.5.0",
          "state": {
            "_dom_classes": [],
            "_model_module": "@jupyter-widgets/controls",
            "_model_module_version": "1.5.0",
            "_model_name": "FloatProgressModel",
            "_view_count": null,
            "_view_module": "@jupyter-widgets/controls",
            "_view_module_version": "1.5.0",
            "_view_name": "ProgressView",
            "bar_style": "success",
            "description": "",
            "description_tooltip": null,
            "layout": "IPY_MODEL_e077d1f128044ca08ecbbece598a8615",
            "max": 10,
            "min": 0,
            "orientation": "horizontal",
            "style": "IPY_MODEL_8081cabffcef433487303b66d510d816",
            "value": 10
          }
        },
        "20d7483612224ffba33c99321549348b": {
          "model_module": "@jupyter-widgets/controls",
          "model_name": "HTMLModel",
          "model_module_version": "1.5.0",
          "state": {
            "_dom_classes": [],
            "_model_module": "@jupyter-widgets/controls",
            "_model_module_version": "1.5.0",
            "_model_name": "HTMLModel",
            "_view_count": null,
            "_view_module": "@jupyter-widgets/controls",
            "_view_module_version": "1.5.0",
            "_view_name": "HTMLView",
            "description": "",
            "description_tooltip": null,
            "layout": "IPY_MODEL_3eaaf11119f346c8abfa1e1fce6b2f34",
            "placeholder": "​",
            "style": "IPY_MODEL_52e5a8664bd04bd88994c166302c9d98",
            "value": " 10/10 [58:49&lt;00:00, 350.72s/it]"
          }
        },
        "939ed4a815d1469e81cc83356a249ea5": {
          "model_module": "@jupyter-widgets/base",
          "model_name": "LayoutModel",
          "model_module_version": "1.2.0",
          "state": {
            "_model_module": "@jupyter-widgets/base",
            "_model_module_version": "1.2.0",
            "_model_name": "LayoutModel",
            "_view_count": null,
            "_view_module": "@jupyter-widgets/base",
            "_view_module_version": "1.2.0",
            "_view_name": "LayoutView",
            "align_content": null,
            "align_items": null,
            "align_self": null,
            "border": null,
            "bottom": null,
            "display": null,
            "flex": null,
            "flex_flow": null,
            "grid_area": null,
            "grid_auto_columns": null,
            "grid_auto_flow": null,
            "grid_auto_rows": null,
            "grid_column": null,
            "grid_gap": null,
            "grid_row": null,
            "grid_template_areas": null,
            "grid_template_columns": null,
            "grid_template_rows": null,
            "height": null,
            "justify_content": null,
            "justify_items": null,
            "left": null,
            "margin": null,
            "max_height": null,
            "max_width": null,
            "min_height": null,
            "min_width": null,
            "object_fit": null,
            "object_position": null,
            "order": null,
            "overflow": null,
            "overflow_x": null,
            "overflow_y": null,
            "padding": null,
            "right": null,
            "top": null,
            "visibility": null,
            "width": null
          }
        },
        "a53486fbaad049448c9e602049e59966": {
          "model_module": "@jupyter-widgets/base",
          "model_name": "LayoutModel",
          "model_module_version": "1.2.0",
          "state": {
            "_model_module": "@jupyter-widgets/base",
            "_model_module_version": "1.2.0",
            "_model_name": "LayoutModel",
            "_view_count": null,
            "_view_module": "@jupyter-widgets/base",
            "_view_module_version": "1.2.0",
            "_view_name": "LayoutView",
            "align_content": null,
            "align_items": null,
            "align_self": null,
            "border": null,
            "bottom": null,
            "display": null,
            "flex": null,
            "flex_flow": null,
            "grid_area": null,
            "grid_auto_columns": null,
            "grid_auto_flow": null,
            "grid_auto_rows": null,
            "grid_column": null,
            "grid_gap": null,
            "grid_row": null,
            "grid_template_areas": null,
            "grid_template_columns": null,
            "grid_template_rows": null,
            "height": null,
            "justify_content": null,
            "justify_items": null,
            "left": null,
            "margin": null,
            "max_height": null,
            "max_width": null,
            "min_height": null,
            "min_width": null,
            "object_fit": null,
            "object_position": null,
            "order": null,
            "overflow": null,
            "overflow_x": null,
            "overflow_y": null,
            "padding": null,
            "right": null,
            "top": null,
            "visibility": null,
            "width": null
          }
        },
        "99335251942f42e2a0d8c4698af6d9ee": {
          "model_module": "@jupyter-widgets/controls",
          "model_name": "DescriptionStyleModel",
          "model_module_version": "1.5.0",
          "state": {
            "_model_module": "@jupyter-widgets/controls",
            "_model_module_version": "1.5.0",
            "_model_name": "DescriptionStyleModel",
            "_view_count": null,
            "_view_module": "@jupyter-widgets/base",
            "_view_module_version": "1.2.0",
            "_view_name": "StyleView",
            "description_width": ""
          }
        },
        "e077d1f128044ca08ecbbece598a8615": {
          "model_module": "@jupyter-widgets/base",
          "model_name": "LayoutModel",
          "model_module_version": "1.2.0",
          "state": {
            "_model_module": "@jupyter-widgets/base",
            "_model_module_version": "1.2.0",
            "_model_name": "LayoutModel",
            "_view_count": null,
            "_view_module": "@jupyter-widgets/base",
            "_view_module_version": "1.2.0",
            "_view_name": "LayoutView",
            "align_content": null,
            "align_items": null,
            "align_self": null,
            "border": null,
            "bottom": null,
            "display": null,
            "flex": null,
            "flex_flow": null,
            "grid_area": null,
            "grid_auto_columns": null,
            "grid_auto_flow": null,
            "grid_auto_rows": null,
            "grid_column": null,
            "grid_gap": null,
            "grid_row": null,
            "grid_template_areas": null,
            "grid_template_columns": null,
            "grid_template_rows": null,
            "height": null,
            "justify_content": null,
            "justify_items": null,
            "left": null,
            "margin": null,
            "max_height": null,
            "max_width": null,
            "min_height": null,
            "min_width": null,
            "object_fit": null,
            "object_position": null,
            "order": null,
            "overflow": null,
            "overflow_x": null,
            "overflow_y": null,
            "padding": null,
            "right": null,
            "top": null,
            "visibility": null,
            "width": null
          }
        },
        "8081cabffcef433487303b66d510d816": {
          "model_module": "@jupyter-widgets/controls",
          "model_name": "ProgressStyleModel",
          "model_module_version": "1.5.0",
          "state": {
            "_model_module": "@jupyter-widgets/controls",
            "_model_module_version": "1.5.0",
            "_model_name": "ProgressStyleModel",
            "_view_count": null,
            "_view_module": "@jupyter-widgets/base",
            "_view_module_version": "1.2.0",
            "_view_name": "StyleView",
            "bar_color": null,
            "description_width": ""
          }
        },
        "3eaaf11119f346c8abfa1e1fce6b2f34": {
          "model_module": "@jupyter-widgets/base",
          "model_name": "LayoutModel",
          "model_module_version": "1.2.0",
          "state": {
            "_model_module": "@jupyter-widgets/base",
            "_model_module_version": "1.2.0",
            "_model_name": "LayoutModel",
            "_view_count": null,
            "_view_module": "@jupyter-widgets/base",
            "_view_module_version": "1.2.0",
            "_view_name": "LayoutView",
            "align_content": null,
            "align_items": null,
            "align_self": null,
            "border": null,
            "bottom": null,
            "display": null,
            "flex": null,
            "flex_flow": null,
            "grid_area": null,
            "grid_auto_columns": null,
            "grid_auto_flow": null,
            "grid_auto_rows": null,
            "grid_column": null,
            "grid_gap": null,
            "grid_row": null,
            "grid_template_areas": null,
            "grid_template_columns": null,
            "grid_template_rows": null,
            "height": null,
            "justify_content": null,
            "justify_items": null,
            "left": null,
            "margin": null,
            "max_height": null,
            "max_width": null,
            "min_height": null,
            "min_width": null,
            "object_fit": null,
            "object_position": null,
            "order": null,
            "overflow": null,
            "overflow_x": null,
            "overflow_y": null,
            "padding": null,
            "right": null,
            "top": null,
            "visibility": null,
            "width": null
          }
        },
        "52e5a8664bd04bd88994c166302c9d98": {
          "model_module": "@jupyter-widgets/controls",
          "model_name": "DescriptionStyleModel",
          "model_module_version": "1.5.0",
          "state": {
            "_model_module": "@jupyter-widgets/controls",
            "_model_module_version": "1.5.0",
            "_model_name": "DescriptionStyleModel",
            "_view_count": null,
            "_view_module": "@jupyter-widgets/base",
            "_view_module_version": "1.2.0",
            "_view_name": "StyleView",
            "description_width": ""
          }
        },
        "88899e82111442bbb2e77b4ce77cb1a7": {
          "model_module": "@jupyter-widgets/controls",
          "model_name": "HBoxModel",
          "model_module_version": "1.5.0",
          "state": {
            "_dom_classes": [],
            "_model_module": "@jupyter-widgets/controls",
            "_model_module_version": "1.5.0",
            "_model_name": "HBoxModel",
            "_view_count": null,
            "_view_module": "@jupyter-widgets/controls",
            "_view_module_version": "1.5.0",
            "_view_name": "HBoxView",
            "box_style": "",
            "children": [
              "IPY_MODEL_792939cd00364b50862c647883ca7e79",
              "IPY_MODEL_7644be87f94d42748e6c380662c3bcb4",
              "IPY_MODEL_1fcb89a31ecd4f79be86398b85898cd1"
            ],
            "layout": "IPY_MODEL_78134ff8c1cc4606a933359ab13d25de"
          }
        },
        "792939cd00364b50862c647883ca7e79": {
          "model_module": "@jupyter-widgets/controls",
          "model_name": "HTMLModel",
          "model_module_version": "1.5.0",
          "state": {
            "_dom_classes": [],
            "_model_module": "@jupyter-widgets/controls",
            "_model_module_version": "1.5.0",
            "_model_name": "HTMLModel",
            "_view_count": null,
            "_view_module": "@jupyter-widgets/controls",
            "_view_module_version": "1.5.0",
            "_view_name": "HTMLView",
            "description": "",
            "description_tooltip": null,
            "layout": "IPY_MODEL_b03de0b3149343658905c5f9cea2864a",
            "placeholder": "​",
            "style": "IPY_MODEL_db511e66706d47d9ad0f50717fb56bb6",
            "value": "100%"
          }
        },
        "7644be87f94d42748e6c380662c3bcb4": {
          "model_module": "@jupyter-widgets/controls",
          "model_name": "FloatProgressModel",
          "model_module_version": "1.5.0",
          "state": {
            "_dom_classes": [],
            "_model_module": "@jupyter-widgets/controls",
            "_model_module_version": "1.5.0",
            "_model_name": "FloatProgressModel",
            "_view_count": null,
            "_view_module": "@jupyter-widgets/controls",
            "_view_module_version": "1.5.0",
            "_view_name": "ProgressView",
            "bar_style": "success",
            "description": "",
            "description_tooltip": null,
            "layout": "IPY_MODEL_cdc5e75123c64bcc845cff0383cced8f",
            "max": 10,
            "min": 0,
            "orientation": "horizontal",
            "style": "IPY_MODEL_0b57147bdb9a4cdba3c8a8aab306c355",
            "value": 10
          }
        },
        "1fcb89a31ecd4f79be86398b85898cd1": {
          "model_module": "@jupyter-widgets/controls",
          "model_name": "HTMLModel",
          "model_module_version": "1.5.0",
          "state": {
            "_dom_classes": [],
            "_model_module": "@jupyter-widgets/controls",
            "_model_module_version": "1.5.0",
            "_model_name": "HTMLModel",
            "_view_count": null,
            "_view_module": "@jupyter-widgets/controls",
            "_view_module_version": "1.5.0",
            "_view_name": "HTMLView",
            "description": "",
            "description_tooltip": null,
            "layout": "IPY_MODEL_eb759b0ce9aa478ca3698713fcb18490",
            "placeholder": "​",
            "style": "IPY_MODEL_c9f5373bd31e4fb38aa724fba87b8a4e",
            "value": " 10/10 [1:26:26&lt;00:00, 518.38s/it]"
          }
        },
        "78134ff8c1cc4606a933359ab13d25de": {
          "model_module": "@jupyter-widgets/base",
          "model_name": "LayoutModel",
          "model_module_version": "1.2.0",
          "state": {
            "_model_module": "@jupyter-widgets/base",
            "_model_module_version": "1.2.0",
            "_model_name": "LayoutModel",
            "_view_count": null,
            "_view_module": "@jupyter-widgets/base",
            "_view_module_version": "1.2.0",
            "_view_name": "LayoutView",
            "align_content": null,
            "align_items": null,
            "align_self": null,
            "border": null,
            "bottom": null,
            "display": null,
            "flex": null,
            "flex_flow": null,
            "grid_area": null,
            "grid_auto_columns": null,
            "grid_auto_flow": null,
            "grid_auto_rows": null,
            "grid_column": null,
            "grid_gap": null,
            "grid_row": null,
            "grid_template_areas": null,
            "grid_template_columns": null,
            "grid_template_rows": null,
            "height": null,
            "justify_content": null,
            "justify_items": null,
            "left": null,
            "margin": null,
            "max_height": null,
            "max_width": null,
            "min_height": null,
            "min_width": null,
            "object_fit": null,
            "object_position": null,
            "order": null,
            "overflow": null,
            "overflow_x": null,
            "overflow_y": null,
            "padding": null,
            "right": null,
            "top": null,
            "visibility": null,
            "width": null
          }
        },
        "b03de0b3149343658905c5f9cea2864a": {
          "model_module": "@jupyter-widgets/base",
          "model_name": "LayoutModel",
          "model_module_version": "1.2.0",
          "state": {
            "_model_module": "@jupyter-widgets/base",
            "_model_module_version": "1.2.0",
            "_model_name": "LayoutModel",
            "_view_count": null,
            "_view_module": "@jupyter-widgets/base",
            "_view_module_version": "1.2.0",
            "_view_name": "LayoutView",
            "align_content": null,
            "align_items": null,
            "align_self": null,
            "border": null,
            "bottom": null,
            "display": null,
            "flex": null,
            "flex_flow": null,
            "grid_area": null,
            "grid_auto_columns": null,
            "grid_auto_flow": null,
            "grid_auto_rows": null,
            "grid_column": null,
            "grid_gap": null,
            "grid_row": null,
            "grid_template_areas": null,
            "grid_template_columns": null,
            "grid_template_rows": null,
            "height": null,
            "justify_content": null,
            "justify_items": null,
            "left": null,
            "margin": null,
            "max_height": null,
            "max_width": null,
            "min_height": null,
            "min_width": null,
            "object_fit": null,
            "object_position": null,
            "order": null,
            "overflow": null,
            "overflow_x": null,
            "overflow_y": null,
            "padding": null,
            "right": null,
            "top": null,
            "visibility": null,
            "width": null
          }
        },
        "db511e66706d47d9ad0f50717fb56bb6": {
          "model_module": "@jupyter-widgets/controls",
          "model_name": "DescriptionStyleModel",
          "model_module_version": "1.5.0",
          "state": {
            "_model_module": "@jupyter-widgets/controls",
            "_model_module_version": "1.5.0",
            "_model_name": "DescriptionStyleModel",
            "_view_count": null,
            "_view_module": "@jupyter-widgets/base",
            "_view_module_version": "1.2.0",
            "_view_name": "StyleView",
            "description_width": ""
          }
        },
        "cdc5e75123c64bcc845cff0383cced8f": {
          "model_module": "@jupyter-widgets/base",
          "model_name": "LayoutModel",
          "model_module_version": "1.2.0",
          "state": {
            "_model_module": "@jupyter-widgets/base",
            "_model_module_version": "1.2.0",
            "_model_name": "LayoutModel",
            "_view_count": null,
            "_view_module": "@jupyter-widgets/base",
            "_view_module_version": "1.2.0",
            "_view_name": "LayoutView",
            "align_content": null,
            "align_items": null,
            "align_self": null,
            "border": null,
            "bottom": null,
            "display": null,
            "flex": null,
            "flex_flow": null,
            "grid_area": null,
            "grid_auto_columns": null,
            "grid_auto_flow": null,
            "grid_auto_rows": null,
            "grid_column": null,
            "grid_gap": null,
            "grid_row": null,
            "grid_template_areas": null,
            "grid_template_columns": null,
            "grid_template_rows": null,
            "height": null,
            "justify_content": null,
            "justify_items": null,
            "left": null,
            "margin": null,
            "max_height": null,
            "max_width": null,
            "min_height": null,
            "min_width": null,
            "object_fit": null,
            "object_position": null,
            "order": null,
            "overflow": null,
            "overflow_x": null,
            "overflow_y": null,
            "padding": null,
            "right": null,
            "top": null,
            "visibility": null,
            "width": null
          }
        },
        "0b57147bdb9a4cdba3c8a8aab306c355": {
          "model_module": "@jupyter-widgets/controls",
          "model_name": "ProgressStyleModel",
          "model_module_version": "1.5.0",
          "state": {
            "_model_module": "@jupyter-widgets/controls",
            "_model_module_version": "1.5.0",
            "_model_name": "ProgressStyleModel",
            "_view_count": null,
            "_view_module": "@jupyter-widgets/base",
            "_view_module_version": "1.2.0",
            "_view_name": "StyleView",
            "bar_color": null,
            "description_width": ""
          }
        },
        "eb759b0ce9aa478ca3698713fcb18490": {
          "model_module": "@jupyter-widgets/base",
          "model_name": "LayoutModel",
          "model_module_version": "1.2.0",
          "state": {
            "_model_module": "@jupyter-widgets/base",
            "_model_module_version": "1.2.0",
            "_model_name": "LayoutModel",
            "_view_count": null,
            "_view_module": "@jupyter-widgets/base",
            "_view_module_version": "1.2.0",
            "_view_name": "LayoutView",
            "align_content": null,
            "align_items": null,
            "align_self": null,
            "border": null,
            "bottom": null,
            "display": null,
            "flex": null,
            "flex_flow": null,
            "grid_area": null,
            "grid_auto_columns": null,
            "grid_auto_flow": null,
            "grid_auto_rows": null,
            "grid_column": null,
            "grid_gap": null,
            "grid_row": null,
            "grid_template_areas": null,
            "grid_template_columns": null,
            "grid_template_rows": null,
            "height": null,
            "justify_content": null,
            "justify_items": null,
            "left": null,
            "margin": null,
            "max_height": null,
            "max_width": null,
            "min_height": null,
            "min_width": null,
            "object_fit": null,
            "object_position": null,
            "order": null,
            "overflow": null,
            "overflow_x": null,
            "overflow_y": null,
            "padding": null,
            "right": null,
            "top": null,
            "visibility": null,
            "width": null
          }
        },
        "c9f5373bd31e4fb38aa724fba87b8a4e": {
          "model_module": "@jupyter-widgets/controls",
          "model_name": "DescriptionStyleModel",
          "model_module_version": "1.5.0",
          "state": {
            "_model_module": "@jupyter-widgets/controls",
            "_model_module_version": "1.5.0",
            "_model_name": "DescriptionStyleModel",
            "_view_count": null,
            "_view_module": "@jupyter-widgets/base",
            "_view_module_version": "1.2.0",
            "_view_name": "StyleView",
            "description_width": ""
          }
        }
      }
    }
  },
  "cells": [
    {
      "cell_type": "markdown",
      "metadata": {
        "id": "view-in-github",
        "colab_type": "text"
      },
      "source": [
        "<a href=\"https://colab.research.google.com/github/pkirti33/video_classification_pytorch/blob/main/video_classification_minir3d18.ipynb\" target=\"_parent\"><img src=\"https://colab.research.google.com/assets/colab-badge.svg\" alt=\"Open In Colab\"/></a>"
      ]
    },
    {
      "cell_type": "code",
      "source": [
        "!pip install -q -e ."
      ],
      "metadata": {
        "colab": {
          "base_uri": "https://localhost:8080/"
        },
        "id": "ufWbQwFQbQKQ",
        "outputId": "201d1c81-e34c-4886-c2a7-8d8250604ae7"
      },
      "execution_count": null,
      "outputs": [
        {
          "output_type": "stream",
          "name": "stdout",
          "text": [
            "  Preparing metadata (setup.py) ... \u001b[?25l\u001b[?25hdone\n",
            "\u001b[2K     \u001b[90m━━━━━━━━━━━━━━━━━━━━━━━━━━━━━━━━━━━━━━━━\u001b[0m \u001b[32m34.3/34.3 MB\u001b[0m \u001b[31m19.8 MB/s\u001b[0m eta \u001b[36m0:00:00\u001b[0m\n",
            "\u001b[2K     \u001b[90m━━━━━━━━━━━━━━━━━━━━━━━━━━━━━━━━━━━━━━━━\u001b[0m \u001b[32m132.7/132.7 kB\u001b[0m \u001b[31m17.8 MB/s\u001b[0m eta \u001b[36m0:00:00\u001b[0m\n",
            "\u001b[?25h  Preparing metadata (setup.py) ... \u001b[?25l\u001b[?25hdone\n",
            "\u001b[2K     \u001b[90m━━━━━━━━━━━━━━━━━━━━━━━━━━━━━━━━━━━━━━━━\u001b[0m \u001b[32m868.8/868.8 kB\u001b[0m \u001b[31m53.3 MB/s\u001b[0m eta \u001b[36m0:00:00\u001b[0m\n",
            "\u001b[2K     \u001b[90m━━━━━━━━━━━━━━━━━━━━━━━━━━━━━━━━━━━━━━━━\u001b[0m \u001b[32m50.2/50.2 kB\u001b[0m \u001b[31m7.0 MB/s\u001b[0m eta \u001b[36m0:00:00\u001b[0m\n",
            "\u001b[?25h  Preparing metadata (setup.py) ... \u001b[?25l\u001b[?25hdone\n",
            "\u001b[2K     \u001b[90m━━━━━━━━━━━━━━━━━━━━━━━━━━━━━━━━━━━━━━━━\u001b[0m \u001b[32m42.2/42.2 kB\u001b[0m \u001b[31m5.8 MB/s\u001b[0m eta \u001b[36m0:00:00\u001b[0m\n",
            "\u001b[?25h  Preparing metadata (setup.py) ... \u001b[?25l\u001b[?25hdone\n",
            "\u001b[2K     \u001b[90m━━━━━━━━━━━━━━━━━━━━━━━━━━━━━━━━━━━━━━━━\u001b[0m \u001b[32m21.3/21.3 MB\u001b[0m \u001b[31m47.3 MB/s\u001b[0m eta \u001b[36m0:00:00\u001b[0m\n",
            "\u001b[2K     \u001b[90m━━━━━━━━━━━━━━━━━━━━━━━━━━━━━━━━━━━━━━━━\u001b[0m \u001b[32m1.6/1.6 MB\u001b[0m \u001b[31m78.4 MB/s\u001b[0m eta \u001b[36m0:00:00\u001b[0m\n",
            "\u001b[?25h  Building wheel for pytorchvideo (setup.py) ... \u001b[?25l\u001b[?25hdone\n",
            "  Building wheel for fvcore (setup.py) ... \u001b[?25l\u001b[?25hdone\n",
            "  Building wheel for iopath (setup.py) ... \u001b[?25l\u001b[?25hdone\n"
          ]
        }
      ]
    },
    {
      "cell_type": "code",
      "source": [
        "import torch"
      ],
      "metadata": {
        "id": "RKmKfSs_vXVt"
      },
      "execution_count": null,
      "outputs": []
    },
    {
      "cell_type": "code",
      "source": [
        "# device agnostic code\n",
        "\n",
        "device = \"cuda\" if torch.cuda.is_available() else \"cpu\"\n",
        "print(device)"
      ],
      "metadata": {
        "colab": {
          "base_uri": "https://localhost:8080/"
        },
        "id": "6YKYnrFQhAc0",
        "outputId": "885582ac-ec07-4457-dd70-82363ca90ac1"
      },
      "execution_count": null,
      "outputs": [
        {
          "output_type": "stream",
          "name": "stdout",
          "text": [
            "cuda\n"
          ]
        }
      ]
    },
    {
      "cell_type": "markdown",
      "source": [
        "# Working with Data"
      ],
      "metadata": {
        "id": "HnGV8j0Zgg8n"
      }
    },
    {
      "cell_type": "markdown",
      "source": [
        "## Upload Data from Kaggle"
      ],
      "metadata": {
        "id": "76zpcYC8gsr9"
      }
    },
    {
      "cell_type": "code",
      "source": [
        "import ipdb\n",
        "import av\n",
        "from torch import nn\n",
        "import os\n",
        "import shutil\n",
        "import random\n",
        "import zipfile"
      ],
      "metadata": {
        "id": "Gn0qTZzrgvAq"
      },
      "execution_count": null,
      "outputs": []
    },
    {
      "cell_type": "code",
      "source": [
        "# PREP KAGGLE API AND DOWNLOAD DATA\n",
        "\n",
        "# upload kaggle.json here\n",
        "from google.colab import files\n",
        "files.upload()\n",
        "\n",
        "# make kaggle directory and upload .json file there\n",
        "! mkdir ~/.kaggle\n",
        "! cp kaggle.json ~/.kaggle/\n",
        "! chmod 600 ~/.kaggle/kaggle.json\n",
        "\n",
        "# download kaggle data from https://www.kaggle.com/datasets/khanhvudo72/ucf11updated\n",
        "! kaggle datasets download -d khanhvudo72/ucf11updated"
      ],
      "metadata": {
        "colab": {
          "base_uri": "https://localhost:8080/",
          "height": 180
        },
        "id": "2OPtdoqggwmw",
        "outputId": "26ddac9f-6efd-401b-bdca-ff73e6d1fc1c"
      },
      "execution_count": null,
      "outputs": [
        {
          "output_type": "display_data",
          "data": {
            "text/plain": [
              "<IPython.core.display.HTML object>"
            ],
            "text/html": [
              "\n",
              "     <input type=\"file\" id=\"files-d207e131-6780-495a-bc0d-6eb5061eb3c8\" name=\"files[]\" multiple disabled\n",
              "        style=\"border:none\" />\n",
              "     <output id=\"result-d207e131-6780-495a-bc0d-6eb5061eb3c8\">\n",
              "      Upload widget is only available when the cell has been executed in the\n",
              "      current browser session. Please rerun this cell to enable.\n",
              "      </output>\n",
              "      <script>// Copyright 2017 Google LLC\n",
              "//\n",
              "// Licensed under the Apache License, Version 2.0 (the \"License\");\n",
              "// you may not use this file except in compliance with the License.\n",
              "// You may obtain a copy of the License at\n",
              "//\n",
              "//      http://www.apache.org/licenses/LICENSE-2.0\n",
              "//\n",
              "// Unless required by applicable law or agreed to in writing, software\n",
              "// distributed under the License is distributed on an \"AS IS\" BASIS,\n",
              "// WITHOUT WARRANTIES OR CONDITIONS OF ANY KIND, either express or implied.\n",
              "// See the License for the specific language governing permissions and\n",
              "// limitations under the License.\n",
              "\n",
              "/**\n",
              " * @fileoverview Helpers for google.colab Python module.\n",
              " */\n",
              "(function(scope) {\n",
              "function span(text, styleAttributes = {}) {\n",
              "  const element = document.createElement('span');\n",
              "  element.textContent = text;\n",
              "  for (const key of Object.keys(styleAttributes)) {\n",
              "    element.style[key] = styleAttributes[key];\n",
              "  }\n",
              "  return element;\n",
              "}\n",
              "\n",
              "// Max number of bytes which will be uploaded at a time.\n",
              "const MAX_PAYLOAD_SIZE = 100 * 1024;\n",
              "\n",
              "function _uploadFiles(inputId, outputId) {\n",
              "  const steps = uploadFilesStep(inputId, outputId);\n",
              "  const outputElement = document.getElementById(outputId);\n",
              "  // Cache steps on the outputElement to make it available for the next call\n",
              "  // to uploadFilesContinue from Python.\n",
              "  outputElement.steps = steps;\n",
              "\n",
              "  return _uploadFilesContinue(outputId);\n",
              "}\n",
              "\n",
              "// This is roughly an async generator (not supported in the browser yet),\n",
              "// where there are multiple asynchronous steps and the Python side is going\n",
              "// to poll for completion of each step.\n",
              "// This uses a Promise to block the python side on completion of each step,\n",
              "// then passes the result of the previous step as the input to the next step.\n",
              "function _uploadFilesContinue(outputId) {\n",
              "  const outputElement = document.getElementById(outputId);\n",
              "  const steps = outputElement.steps;\n",
              "\n",
              "  const next = steps.next(outputElement.lastPromiseValue);\n",
              "  return Promise.resolve(next.value.promise).then((value) => {\n",
              "    // Cache the last promise value to make it available to the next\n",
              "    // step of the generator.\n",
              "    outputElement.lastPromiseValue = value;\n",
              "    return next.value.response;\n",
              "  });\n",
              "}\n",
              "\n",
              "/**\n",
              " * Generator function which is called between each async step of the upload\n",
              " * process.\n",
              " * @param {string} inputId Element ID of the input file picker element.\n",
              " * @param {string} outputId Element ID of the output display.\n",
              " * @return {!Iterable<!Object>} Iterable of next steps.\n",
              " */\n",
              "function* uploadFilesStep(inputId, outputId) {\n",
              "  const inputElement = document.getElementById(inputId);\n",
              "  inputElement.disabled = false;\n",
              "\n",
              "  const outputElement = document.getElementById(outputId);\n",
              "  outputElement.innerHTML = '';\n",
              "\n",
              "  const pickedPromise = new Promise((resolve) => {\n",
              "    inputElement.addEventListener('change', (e) => {\n",
              "      resolve(e.target.files);\n",
              "    });\n",
              "  });\n",
              "\n",
              "  const cancel = document.createElement('button');\n",
              "  inputElement.parentElement.appendChild(cancel);\n",
              "  cancel.textContent = 'Cancel upload';\n",
              "  const cancelPromise = new Promise((resolve) => {\n",
              "    cancel.onclick = () => {\n",
              "      resolve(null);\n",
              "    };\n",
              "  });\n",
              "\n",
              "  // Wait for the user to pick the files.\n",
              "  const files = yield {\n",
              "    promise: Promise.race([pickedPromise, cancelPromise]),\n",
              "    response: {\n",
              "      action: 'starting',\n",
              "    }\n",
              "  };\n",
              "\n",
              "  cancel.remove();\n",
              "\n",
              "  // Disable the input element since further picks are not allowed.\n",
              "  inputElement.disabled = true;\n",
              "\n",
              "  if (!files) {\n",
              "    return {\n",
              "      response: {\n",
              "        action: 'complete',\n",
              "      }\n",
              "    };\n",
              "  }\n",
              "\n",
              "  for (const file of files) {\n",
              "    const li = document.createElement('li');\n",
              "    li.append(span(file.name, {fontWeight: 'bold'}));\n",
              "    li.append(span(\n",
              "        `(${file.type || 'n/a'}) - ${file.size} bytes, ` +\n",
              "        `last modified: ${\n",
              "            file.lastModifiedDate ? file.lastModifiedDate.toLocaleDateString() :\n",
              "                                    'n/a'} - `));\n",
              "    const percent = span('0% done');\n",
              "    li.appendChild(percent);\n",
              "\n",
              "    outputElement.appendChild(li);\n",
              "\n",
              "    const fileDataPromise = new Promise((resolve) => {\n",
              "      const reader = new FileReader();\n",
              "      reader.onload = (e) => {\n",
              "        resolve(e.target.result);\n",
              "      };\n",
              "      reader.readAsArrayBuffer(file);\n",
              "    });\n",
              "    // Wait for the data to be ready.\n",
              "    let fileData = yield {\n",
              "      promise: fileDataPromise,\n",
              "      response: {\n",
              "        action: 'continue',\n",
              "      }\n",
              "    };\n",
              "\n",
              "    // Use a chunked sending to avoid message size limits. See b/62115660.\n",
              "    let position = 0;\n",
              "    do {\n",
              "      const length = Math.min(fileData.byteLength - position, MAX_PAYLOAD_SIZE);\n",
              "      const chunk = new Uint8Array(fileData, position, length);\n",
              "      position += length;\n",
              "\n",
              "      const base64 = btoa(String.fromCharCode.apply(null, chunk));\n",
              "      yield {\n",
              "        response: {\n",
              "          action: 'append',\n",
              "          file: file.name,\n",
              "          data: base64,\n",
              "        },\n",
              "      };\n",
              "\n",
              "      let percentDone = fileData.byteLength === 0 ?\n",
              "          100 :\n",
              "          Math.round((position / fileData.byteLength) * 100);\n",
              "      percent.textContent = `${percentDone}% done`;\n",
              "\n",
              "    } while (position < fileData.byteLength);\n",
              "  }\n",
              "\n",
              "  // All done.\n",
              "  yield {\n",
              "    response: {\n",
              "      action: 'complete',\n",
              "    }\n",
              "  };\n",
              "}\n",
              "\n",
              "scope.google = scope.google || {};\n",
              "scope.google.colab = scope.google.colab || {};\n",
              "scope.google.colab._files = {\n",
              "  _uploadFiles,\n",
              "  _uploadFilesContinue,\n",
              "};\n",
              "})(self);\n",
              "</script> "
            ]
          },
          "metadata": {}
        },
        {
          "output_type": "stream",
          "name": "stdout",
          "text": [
            "Saving kaggle.json to kaggle.json\n",
            "Dataset URL: https://www.kaggle.com/datasets/khanhvudo72/ucf11updated\n",
            "License(s): unknown\n",
            "Downloading ucf11updated.zip to /content\n",
            "100% 0.98G/0.98G [01:02<00:00, 21.4MB/s]\n",
            "100% 0.98G/0.98G [01:02<00:00, 17.0MB/s]\n"
          ]
        }
      ]
    },
    {
      "cell_type": "code",
      "source": [
        "# ORGANIZE DATA INTO FOLDERS AND UNZIP\n",
        "\n",
        "# create new folder \"data\" at base level of the Google Colab directory\n",
        "data_folder = '/content/data'\n",
        "if not os.path.exists(data_folder):\n",
        "    os.makedirs(data_folder)\n",
        "\n",
        "# extract the contents of the zip file into the \"data\" folder\n",
        "zip_file_path = '/content/ucf11updated.zip'\n",
        "with zipfile.ZipFile(zip_file_path, 'r') as zip_ref:\n",
        "    zip_ref.extractall(data_folder)\n",
        "\n",
        "print(\"Extraction complete.\")"
      ],
      "metadata": {
        "colab": {
          "base_uri": "https://localhost:8080/"
        },
        "id": "jFjSwiWJg2gi",
        "outputId": "80bb8172-8c1a-4120-b55b-d4089af613f3"
      },
      "execution_count": null,
      "outputs": [
        {
          "output_type": "stream",
          "name": "stdout",
          "text": [
            "Extraction complete.\n"
          ]
        }
      ]
    },
    {
      "cell_type": "code",
      "source": [
        "# REMOVE UNECESSARY FOLDERS\n",
        "\n",
        "data_folder = '/content/data/UCF11_updated_mpg'\n",
        "\n",
        "# iterate through all subdirectories within the data folder\n",
        "for root, dirs, files in os.walk(data_folder):\n",
        "    for dir_name in dirs:\n",
        "        if dir_name == 'Annotation':\n",
        "            # delete the 'Annotation' folder\n",
        "            folder_path = os.path.join(root, dir_name)\n",
        "            shutil.rmtree(folder_path)\n",
        "            print(f\"Removed '{dir_name}' folder from '{root}'\")\n",
        "\n",
        "print(\"Removal complete.\")"
      ],
      "metadata": {
        "colab": {
          "base_uri": "https://localhost:8080/"
        },
        "id": "ZUGDMtrWg_Os",
        "outputId": "b0bd9f65-498e-4af0-ed6c-23df250bf25b"
      },
      "execution_count": null,
      "outputs": [
        {
          "output_type": "stream",
          "name": "stdout",
          "text": [
            "Removed 'Annotation' folder from '/content/data/UCF11_updated_mpg/horse_riding'\n",
            "Removed 'Annotation' folder from '/content/data/UCF11_updated_mpg/basketball'\n",
            "Removed 'Annotation' folder from '/content/data/UCF11_updated_mpg/walking'\n",
            "Removed 'Annotation' folder from '/content/data/UCF11_updated_mpg/volleyball_spiking'\n",
            "Removed 'Annotation' folder from '/content/data/UCF11_updated_mpg/biking'\n",
            "Removed 'Annotation' folder from '/content/data/UCF11_updated_mpg/tennis_swing'\n",
            "Removed 'Annotation' folder from '/content/data/UCF11_updated_mpg/diving'\n",
            "Removed 'Annotation' folder from '/content/data/UCF11_updated_mpg/soccer_juggling'\n",
            "Removed 'Annotation' folder from '/content/data/UCF11_updated_mpg/trampoline_jumping'\n",
            "Removed 'Annotation' folder from '/content/data/UCF11_updated_mpg/golf_swing'\n",
            "Removed 'Annotation' folder from '/content/data/UCF11_updated_mpg/swing'\n",
            "Removal complete.\n"
          ]
        }
      ]
    },
    {
      "cell_type": "code",
      "source": [
        "# EMPTY ALL SUBFOLDERS OF THE VIDEO CLASS FOLDERS (CLEANUP)\n",
        "\n",
        "data_folder = '/content/data/UCF11_updated_mpg'\n",
        "\n",
        "# iterate through all video class folders\n",
        "for video_class in os.listdir(data_folder):\n",
        "    class_folder = os.path.join(data_folder, video_class)\n",
        "\n",
        "    # skip non-directory files\n",
        "    if not os.path.isdir(class_folder):\n",
        "        continue\n",
        "\n",
        "    # iterate through subdirectories within the video class folder\n",
        "    for root, dirs, files in os.walk(class_folder):\n",
        "        for dir_name in dirs:\n",
        "            dir_path = os.path.join(root, dir_name)\n",
        "\n",
        "            # move files from the subfolder to the video class folder\n",
        "            for file_name in os.listdir(dir_path):\n",
        "                file_path = os.path.join(dir_path, file_name)\n",
        "                shutil.move(file_path, class_folder)\n",
        "\n",
        "            # remove the subfolder\n",
        "            shutil.rmtree(dir_path)\n",
        "\n",
        "print(\"Cleanup complete.\")"
      ],
      "metadata": {
        "colab": {
          "base_uri": "https://localhost:8080/"
        },
        "id": "8Zmdfio-hHr0",
        "outputId": "3ea038dd-e14e-4eb1-fe5d-0f15b960c0b8"
      },
      "execution_count": null,
      "outputs": [
        {
          "output_type": "stream",
          "name": "stdout",
          "text": [
            "Cleanup complete.\n"
          ]
        }
      ]
    },
    {
      "cell_type": "code",
      "source": [
        "# ORGANIZE TRAIN AND TEST FOLDERS\n",
        "\n",
        "data_folder = '/content/data/UCF11_updated_mpg'\n",
        "train_folder = os.path.join(data_folder, 'train')\n",
        "test_folder = os.path.join(data_folder, 'test')\n",
        "\n",
        "# create 'train' and 'test' folders\n",
        "video_class_list = os.listdir(data_folder)\n",
        "os.mkdir(train_folder)\n",
        "os.mkdir(test_folder)\n",
        "\n",
        "# iterate through all video-class folders\n",
        "for video_class in video_class_list:\n",
        "    class_folder = os.path.join(data_folder, video_class)\n",
        "\n",
        "    # skip non-directory files and 'train'/'test' folders\n",
        "    if not os.path.isdir(class_folder) or video_class in ['train', 'test']:\n",
        "        continue\n",
        "\n",
        "    # create train-sub-video-class folder\n",
        "    train_class_folder = os.path.join(train_folder, video_class)\n",
        "    os.mkdir(train_class_folder)\n",
        "\n",
        "    # create test-sub-video-class folder\n",
        "    test_class_folder = os.path.join(test_folder, video_class)\n",
        "    os.mkdir(test_class_folder)\n",
        "\n",
        "    # get list of videos in the video-class folder\n",
        "    video_files = os.listdir(class_folder)\n",
        "    num_videos = len(video_files)\n",
        "\n",
        "    # calculate the split indices for train and test\n",
        "    train_split = int(0.8 * num_videos)\n",
        "    test_split = num_videos - train_split\n",
        "\n",
        "    # move videos to train-sub-video-class folder\n",
        "    for file_name in video_files[:train_split]:\n",
        "        src_file_path = os.path.join(class_folder, file_name)\n",
        "        dst_file_path = os.path.join(train_class_folder, file_name)\n",
        "        shutil.move(src_file_path, dst_file_path)\n",
        "\n",
        "    # move videos to test-sub-video-class folder\n",
        "    for file_name in video_files[train_split:]:\n",
        "        src_file_path = os.path.join(class_folder, file_name)\n",
        "        dst_file_path = os.path.join(test_class_folder, file_name)\n",
        "        shutil.move(src_file_path, dst_file_path)\n",
        "\n",
        "    # remove the video-class folder if empty\n",
        "    if not os.listdir(class_folder):\n",
        "        os.rmdir(class_folder)\n",
        "        print(f\"Removed empty '{video_class}' folder\")\n",
        "\n",
        "print(\"Data split and cleanup complete.\")"
      ],
      "metadata": {
        "colab": {
          "base_uri": "https://localhost:8080/"
        },
        "id": "gnmopOt1hMSo",
        "outputId": "a9da039d-18a9-4242-995a-e8b32a56ffa7"
      },
      "execution_count": null,
      "outputs": [
        {
          "output_type": "stream",
          "name": "stdout",
          "text": [
            "Removed empty 'horse_riding' folder\n",
            "Removed empty 'basketball' folder\n",
            "Removed empty 'walking' folder\n",
            "Removed empty 'volleyball_spiking' folder\n",
            "Removed empty 'biking' folder\n",
            "Removed empty 'tennis_swing' folder\n",
            "Removed empty 'diving' folder\n",
            "Removed empty 'soccer_juggling' folder\n",
            "Removed empty 'trampoline_jumping' folder\n",
            "Removed empty 'golf_swing' folder\n",
            "Removed empty 'swing' folder\n",
            "Data split and cleanup complete.\n"
          ]
        }
      ]
    },
    {
      "cell_type": "markdown",
      "source": [
        "##Making the Custom Dataset"
      ],
      "metadata": {
        "id": "yj8Wok9whOP3"
      }
    },
    {
      "cell_type": "code",
      "source": [
        "import pytorchvideo\n",
        "import torchvision\n",
        "from torchvision import transforms\n",
        "from pathlib import Path\n",
        "from torch.utils.data import Dataset, DataLoader"
      ],
      "metadata": {
        "id": "vHezPmuphRsL"
      },
      "execution_count": null,
      "outputs": []
    },
    {
      "cell_type": "code",
      "source": [
        "# MAKE CLASSES AND CLASS_TO_IDX\n",
        "def find_classes(dir: str) -> tuple[list[str], dict[str, int]]:\n",
        "  classes = sorted(os.listdir(dir))\n",
        "\n",
        "  class_to_idx={}\n",
        "  for i, video_class in enumerate(classes):\n",
        "    class_to_idx[video_class] = i\n",
        "\n",
        "  return classes, class_to_idx"
      ],
      "metadata": {
        "id": "Q1ZLgUdOhTKg"
      },
      "execution_count": null,
      "outputs": []
    },
    {
      "cell_type": "code",
      "source": [
        "# MAKE THE CUSTOM DATASET\n",
        "\n",
        "class VideoFolder(Dataset):\n",
        "\n",
        "  def __init__(self, targ_dir: str, transform=None):\n",
        "    self.paths = sorted(list(Path(targ_dir).glob(\"*/*.mpg\")))\n",
        "    self.transform = transform\n",
        "    self.classes, self.class_to_idx = find_classes(targ_dir)\n",
        "\n",
        "  def load_video(self, idx: int):\n",
        "    video_path = self.paths[idx]\n",
        "    return torchvision.io.read_video(filename=str(video_path),\n",
        "                                     start_pts=0,\n",
        "                                     end_pts=5,\n",
        "                                     pts_unit='sec') #outputs with THWC\n",
        "\n",
        "  def __len__(self) -> int:\n",
        "    return len(self.paths)\n",
        "\n",
        "  def __getitem__(self, idx: int) -> tuple[torch.Tensor, int]:\n",
        "    loaded_video = self.load_video(idx)\n",
        "\n",
        "    video_class = self.paths[idx].parent.name\n",
        "    video_key = self.class_to_idx[video_class]\n",
        "\n",
        "    if self.transform:\n",
        "      return self.transform(loaded_video[0].type(torch.float32)).type(torch.uint8), video_key\n",
        "    else:\n",
        "      return loaded_video[0].type(torch.uint8), video_key"
      ],
      "metadata": {
        "id": "mvn0BL5NhZKV"
      },
      "execution_count": null,
      "outputs": []
    },
    {
      "cell_type": "markdown",
      "source": [
        "##Video Transformations"
      ],
      "metadata": {
        "id": "z_mp4d_Zha3a"
      }
    },
    {
      "cell_type": "markdown",
      "source": [
        "### Custom Transformation Classes"
      ],
      "metadata": {
        "id": "YW2nTKi2hiXp"
      }
    },
    {
      "cell_type": "code",
      "source": [
        "class ProportionalFrameCrop(object):\n",
        "  \"\"\"\n",
        "  Given a proportion X, remove X*(total number of frames) from the beginning\n",
        "  and end of video tensor.\n",
        "  \"\"\"\n",
        "\n",
        "  def __init__(self, proportion):\n",
        "    self.proportion = proportion\n",
        "\n",
        "  def __call__(self, video):\n",
        "    # Calculate the number of frames to remove from the beginning and end\n",
        "    num_frames = video.shape[0]\n",
        "    num_frames_to_remove = int(self.proportion * num_frames)\n",
        "\n",
        "    # Trim the video tensor\n",
        "    if num_frames_to_remove > 0:\n",
        "        video = video[num_frames_to_remove:-num_frames_to_remove]\n",
        "\n",
        "    # Transpose the tensor to the desired shape\n",
        "    video = video.permute(3, 0, 1, 2)\n",
        "\n",
        "    return video"
      ],
      "metadata": {
        "id": "nGe7XRuEhksE"
      },
      "execution_count": null,
      "outputs": []
    },
    {
      "cell_type": "markdown",
      "source": [
        "### Transformation Sequence"
      ],
      "metadata": {
        "id": "OJX1xwd7iXLm"
      }
    },
    {
      "cell_type": "code",
      "source": [
        "# TRANSFORMATION FOR VIDEOS CROPPED PROPRTIONALLY BY FRAMES\n",
        "transform_1proportion = transforms.Compose([\n",
        "    ProportionalFrameCrop(proportion=0.1) #wants THWC, returns CTHW\n",
        "])"
      ],
      "metadata": {
        "id": "LmkKyhJ4iXE2"
      },
      "execution_count": null,
      "outputs": []
    },
    {
      "cell_type": "markdown",
      "source": [
        "### Testing Transformations"
      ],
      "metadata": {
        "id": "QsF3GXo6ivve"
      }
    },
    {
      "cell_type": "code",
      "source": [
        "# TESTING THE TRANSFORMATIONS\n",
        "def test_transformation(video_path: str,\n",
        "                        transformation: transforms.Compose,\n",
        "                        output_path: str):\n",
        "\n",
        "  loaded_video = torchvision.io.read_video(filename=video_path,\n",
        "                                           start_pts=0, #experiment to find out what these do\n",
        "                                           end_pts=5,\n",
        "                                           pts_unit='sec') #outputs with THWC\n",
        "\n",
        "  transformed_video = transformation(loaded_video[0].type(torch.float32))\n",
        "  transformed_video = transformed_video.permute((1, 2, 3, 0)).type(torch.uint8)\n",
        "\n",
        "  print(f\"Loaded video shape: {loaded_video[0].shape}\")\n",
        "  print(f\"Transformed video shape: {transformed_video.shape}\")\n",
        "\n",
        "  torchvision.io.write_video(filename=output_path,\n",
        "                             video_array=transformed_video, #in THWC\n",
        "                             fps = loaded_video[2]['video_fps'],\n",
        "                             video_codec='mpeg1video')"
      ],
      "metadata": {
        "id": "k656GaPXi2P7"
      },
      "execution_count": null,
      "outputs": []
    },
    {
      "cell_type": "code",
      "source": [
        "os.mkdir('/content/test_transformations')\n",
        "files = os.listdir(\"/content/data/UCF11_updated_mpg/test/basketball\")\n",
        "file_name = files[0]\n",
        "video_path = os.path.join(\"/content/data/UCF11_updated_mpg/test/basketball\", file_name)\n",
        "video_path"
      ],
      "metadata": {
        "colab": {
          "base_uri": "https://localhost:8080/",
          "height": 35
        },
        "id": "5SXfSP1li7AE",
        "outputId": "0bf29684-855b-45fc-978b-ec7efa5dd7bd"
      },
      "execution_count": null,
      "outputs": [
        {
          "output_type": "execute_result",
          "data": {
            "text/plain": [
              "'/content/data/UCF11_updated_mpg/test/basketball/v_shooting_19_08.mpg'"
            ],
            "application/vnd.google.colaboratory.intrinsic+json": {
              "type": "string"
            }
          },
          "metadata": {},
          "execution_count": 16
        }
      ]
    },
    {
      "cell_type": "code",
      "source": [
        "#TESTING TRIMMING OFF 0.1 PROPORTION\n",
        "test_transformation(video_path=video_path,\n",
        "                    transformation=transform_1proportion,\n",
        "                    output_path='/content/test_transformations/1proportion_testing.mpg')"
      ],
      "metadata": {
        "id": "zrwb5n8p7rF1",
        "colab": {
          "base_uri": "https://localhost:8080/"
        },
        "outputId": "706c7317-b340-456e-d02c-fe6eae69646d"
      },
      "execution_count": null,
      "outputs": [
        {
          "output_type": "stream",
          "name": "stdout",
          "text": [
            "Loaded video shape: torch.Size([120, 240, 320, 3])\n",
            "Transformed video shape: torch.Size([96, 240, 320, 3])\n"
          ]
        }
      ]
    },
    {
      "cell_type": "markdown",
      "source": [
        "## Saving Transformed Video Directories"
      ],
      "metadata": {
        "id": "dm66OHV3jFdn"
      }
    },
    {
      "cell_type": "code",
      "source": [
        "def contains_dirs(directory: str) -> bool:\n",
        "  \"\"\"\n",
        "  Helper Function:\n",
        "  Given a directory, checks if that directory contains only other directories.\n",
        "  If so, returns True. If it contains at least one file, returns False.\n",
        "  \"\"\"\n",
        "\n",
        "  checker = True #True indicates only directories\n",
        "  for dir in os.listdir(directory):\n",
        "    path_to_check = os.path.join(directory, dir)\n",
        "    if os.path.isfile(path_to_check):\n",
        "      checker = False #False indicates a file was detected\n",
        "      break\n",
        "\n",
        "  return checker"
      ],
      "metadata": {
        "id": "IikrsPuHjR8C"
      },
      "execution_count": null,
      "outputs": []
    },
    {
      "cell_type": "code",
      "source": [
        "def save_transformed_videos_recursive(in_directory: str,\n",
        "                                      out_directory: str,\n",
        "                                      transformation: transforms.Compose):\n",
        "  \"\"\"\n",
        "  Takes all videos inside in_directory, performs the given transformation, and\n",
        "  places them inside out_directory. If in_directory contains subdirectories,\n",
        "  this structure is copied into out_directory.\n",
        "  \"\"\"\n",
        "  os.mkdir(out_directory)\n",
        "  if not contains_dirs(in_directory):\n",
        "    for video in os.listdir(in_directory):\n",
        "      if not video.startswith('.'):\n",
        "        next_video_in_dir = os.path.join(in_directory, video)\n",
        "        next_video_out_dir = os.path.join(out_directory, video)\n",
        "        #print(f\"video to be transformed: {next_video_in_dir}\")\n",
        "        test_transformation(next_video_in_dir, transformation, next_video_out_dir)\n",
        "    print(f\"Successfully transformed videos from {in_directory} and put into {out_directory}\\n\")\n",
        "\n",
        "  else:\n",
        "    for dir in os.listdir(in_directory):\n",
        "      next_in_dir = os.path.join(in_directory, dir)\n",
        "      next_out_dir = os.path.join(out_directory, dir)\n",
        "      #print(f\"next in_dir: {next_in_dir} | next out_dir: {next_out_dir}\")\n",
        "      save_transformed_videos_recursive(next_in_dir, next_out_dir, transformation)"
      ],
      "metadata": {
        "id": "r8sgrTNCjmTJ"
      },
      "execution_count": null,
      "outputs": []
    },
    {
      "cell_type": "markdown",
      "source": [
        "## Making DataLoaders"
      ],
      "metadata": {
        "id": "IU5Chb9wkbnK"
      }
    },
    {
      "cell_type": "code",
      "source": [
        "#Assign directories\n",
        "test_dir = '/content/data/UCF11_updated_mpg/test'\n",
        "train_dir = '/content/data/UCF11_updated_mpg/train'\n",
        "\n",
        "#Make the datasets\n",
        "train_dataset_1proportion= VideoFolder(train_dir, transform_1proportion)\n",
        "test_dataset_1proportion= VideoFolder(test_dir, transform_1proportion)"
      ],
      "metadata": {
        "id": "u8qwDgP5keh3"
      },
      "execution_count": null,
      "outputs": []
    },
    {
      "cell_type": "code",
      "source": [
        "#Make the dataloaders\n",
        "BATCH_SIZE = 1\n",
        "NUM_WORKERS = 0\n",
        "\n",
        "train_dataloader_1proportion = DataLoader(\n",
        "    dataset=train_dataset_1proportion,\n",
        "    batch_size=BATCH_SIZE,\n",
        "    num_workers=NUM_WORKERS,\n",
        "    shuffle=True)\n",
        "test_dataloader_1proportion = DataLoader(\n",
        "    dataset=test_dataset_1proportion,\n",
        "    batch_size=BATCH_SIZE,\n",
        "    num_workers=NUM_WORKERS,\n",
        "    shuffle=False)"
      ],
      "metadata": {
        "id": "hUGG7HnFkvYB"
      },
      "execution_count": null,
      "outputs": []
    },
    {
      "cell_type": "code",
      "source": [
        "def test_given_dataloader(dataloader: DataLoader):\n",
        "  tensor, label = next(iter(dataloader))\n",
        "\n",
        "  print(f\"Video shape: {tensor.shape} | Label: {label} | Data Type: {tensor.dtype}\")"
      ],
      "metadata": {
        "id": "Zu5gm0FMk2Bg"
      },
      "execution_count": null,
      "outputs": []
    },
    {
      "cell_type": "code",
      "source": [
        "# TEST A DATALOADER HERE\n",
        "\n",
        "test_given_dataloader(train_dataloader_1proportion)\n",
        "test_given_dataloader(test_dataloader_1proportion)"
      ],
      "metadata": {
        "id": "x_RztzbflVD_",
        "colab": {
          "base_uri": "https://localhost:8080/"
        },
        "outputId": "c44bd067-6423-4ebf-cc96-2f36d0b19c6b"
      },
      "execution_count": null,
      "outputs": [
        {
          "output_type": "stream",
          "name": "stdout",
          "text": [
            "Video shape: torch.Size([1, 3, 68, 240, 320]) | Label: tensor([3]) | Data Type: torch.uint8\n",
            "Video shape: torch.Size([1, 3, 108, 240, 320]) | Label: tensor([0]) | Data Type: torch.uint8\n"
          ]
        }
      ]
    },
    {
      "cell_type": "markdown",
      "source": [
        "# Make the Model"
      ],
      "metadata": {
        "id": "9KSPm7DPlbu0"
      }
    },
    {
      "cell_type": "code",
      "source": [
        "import torch.nn as nn\n",
        "import torchinfo"
      ],
      "metadata": {
        "id": "6LAQMfVLldxR"
      },
      "execution_count": null,
      "outputs": []
    },
    {
      "cell_type": "markdown",
      "source": [
        "## Examining a Pre-Trained Model\n",
        "\n",
        "My model's architecture is going to based off of this one. I chose ResNet R3D_18 from torchvision since it is easily accessible, built for action recognition, and trained on UCF101.\n",
        "\n",
        "Currently commented out since my model has been built."
      ],
      "metadata": {
        "id": "WmaLIrQUle4H"
      }
    },
    {
      "cell_type": "code",
      "source": [
        "torch.cuda.empty_cache()\n",
        "\n",
        "model_premade = torchvision.models.video.r3d_18(weights='DEFAULT', progress=True).to(device)\n",
        "torchinfo.summary(model_premade, input_size=[1, 3, 50, 200, 300])"
      ],
      "metadata": {
        "id": "9IlNYganljHu",
        "colab": {
          "base_uri": "https://localhost:8080/"
        },
        "outputId": "902292c9-95b4-49f8-a5c9-b38b0390a0a2"
      },
      "execution_count": null,
      "outputs": [
        {
          "output_type": "stream",
          "name": "stderr",
          "text": [
            "Downloading: \"https://download.pytorch.org/models/r3d_18-b3b3357e.pth\" to /root/.cache/torch/hub/checkpoints/r3d_18-b3b3357e.pth\n",
            "100%|██████████| 127M/127M [00:00<00:00, 174MB/s]\n"
          ]
        },
        {
          "output_type": "execute_result",
          "data": {
            "text/plain": [
              "==========================================================================================\n",
              "Layer (type:depth-idx)                   Output Shape              Param #\n",
              "==========================================================================================\n",
              "VideoResNet                              [1, 400]                  --\n",
              "├─BasicStem: 1-1                         [1, 64, 50, 100, 150]     --\n",
              "│    └─Conv3d: 2-1                       [1, 64, 50, 100, 150]     28,224\n",
              "│    └─BatchNorm3d: 2-2                  [1, 64, 50, 100, 150]     128\n",
              "│    └─ReLU: 2-3                         [1, 64, 50, 100, 150]     --\n",
              "├─Sequential: 1-2                        [1, 64, 50, 100, 150]     --\n",
              "│    └─BasicBlock: 2-4                   [1, 64, 50, 100, 150]     --\n",
              "│    │    └─Sequential: 3-1              [1, 64, 50, 100, 150]     110,720\n",
              "│    │    └─Sequential: 3-2              [1, 64, 50, 100, 150]     110,720\n",
              "│    │    └─ReLU: 3-3                    [1, 64, 50, 100, 150]     --\n",
              "│    └─BasicBlock: 2-5                   [1, 64, 50, 100, 150]     --\n",
              "│    │    └─Sequential: 3-4              [1, 64, 50, 100, 150]     110,720\n",
              "│    │    └─Sequential: 3-5              [1, 64, 50, 100, 150]     110,720\n",
              "│    │    └─ReLU: 3-6                    [1, 64, 50, 100, 150]     --\n",
              "├─Sequential: 1-3                        [1, 128, 25, 50, 75]      --\n",
              "│    └─BasicBlock: 2-6                   [1, 128, 25, 50, 75]      --\n",
              "│    │    └─Sequential: 3-7              [1, 128, 25, 50, 75]      221,440\n",
              "│    │    └─Sequential: 3-8              [1, 128, 25, 50, 75]      442,624\n",
              "│    │    └─Sequential: 3-9              [1, 128, 25, 50, 75]      8,448\n",
              "│    │    └─ReLU: 3-10                   [1, 128, 25, 50, 75]      --\n",
              "│    └─BasicBlock: 2-7                   [1, 128, 25, 50, 75]      --\n",
              "│    │    └─Sequential: 3-11             [1, 128, 25, 50, 75]      442,624\n",
              "│    │    └─Sequential: 3-12             [1, 128, 25, 50, 75]      442,624\n",
              "│    │    └─ReLU: 3-13                   [1, 128, 25, 50, 75]      --\n",
              "├─Sequential: 1-4                        [1, 256, 13, 25, 38]      --\n",
              "│    └─BasicBlock: 2-8                   [1, 256, 13, 25, 38]      --\n",
              "│    │    └─Sequential: 3-14             [1, 256, 13, 25, 38]      885,248\n",
              "│    │    └─Sequential: 3-15             [1, 256, 13, 25, 38]      1,769,984\n",
              "│    │    └─Sequential: 3-16             [1, 256, 13, 25, 38]      33,280\n",
              "│    │    └─ReLU: 3-17                   [1, 256, 13, 25, 38]      --\n",
              "│    └─BasicBlock: 2-9                   [1, 256, 13, 25, 38]      --\n",
              "│    │    └─Sequential: 3-18             [1, 256, 13, 25, 38]      1,769,984\n",
              "│    │    └─Sequential: 3-19             [1, 256, 13, 25, 38]      1,769,984\n",
              "│    │    └─ReLU: 3-20                   [1, 256, 13, 25, 38]      --\n",
              "├─Sequential: 1-5                        [1, 512, 7, 13, 19]       --\n",
              "│    └─BasicBlock: 2-10                  [1, 512, 7, 13, 19]       --\n",
              "│    │    └─Sequential: 3-21             [1, 512, 7, 13, 19]       3,539,968\n",
              "│    │    └─Sequential: 3-22             [1, 512, 7, 13, 19]       7,078,912\n",
              "│    │    └─Sequential: 3-23             [1, 512, 7, 13, 19]       132,096\n",
              "│    │    └─ReLU: 3-24                   [1, 512, 7, 13, 19]       --\n",
              "│    └─BasicBlock: 2-11                  [1, 512, 7, 13, 19]       --\n",
              "│    │    └─Sequential: 3-25             [1, 512, 7, 13, 19]       7,078,912\n",
              "│    │    └─Sequential: 3-26             [1, 512, 7, 13, 19]       7,078,912\n",
              "│    │    └─ReLU: 3-27                   [1, 512, 7, 13, 19]       --\n",
              "├─AdaptiveAvgPool3d: 1-6                 [1, 512, 1, 1, 1]         --\n",
              "├─Linear: 1-7                            [1, 400]                  205,200\n",
              "==========================================================================================\n",
              "Total params: 33,371,472\n",
              "Trainable params: 33,371,472\n",
              "Non-trainable params: 0\n",
              "Total mult-adds (G): 618.81\n",
              "==========================================================================================\n",
              "Input size (MB): 36.00\n",
              "Forward/backward pass size (MB): 5123.75\n",
              "Params size (MB): 133.49\n",
              "Estimated Total Size (MB): 5293.24\n",
              "=========================================================================================="
            ]
          },
          "metadata": {},
          "execution_count": 25
        }
      ]
    },
    {
      "cell_type": "markdown",
      "source": [
        "## Writing My Own Model"
      ],
      "metadata": {
        "id": "oZOpV4c_l5XJ"
      }
    },
    {
      "cell_type": "code",
      "source": [
        "# REAL MODEL I WILL USE, BASED ON RESNET R3D18\n",
        "class MiniR3D18(nn.Module):\n",
        "  def __init__(self):\n",
        "      super().__init__()\n",
        "\n",
        "      #the stem\n",
        "      self.stem = nn.Sequential(nn.Conv3d(in_channels=3,\n",
        "                                          out_channels=20,\n",
        "                                          kernel_size=4,\n",
        "                                          stride=2,\n",
        "                                          padding=2,\n",
        "                                          bias=False), #wants [batchsize, color, frames, height, width]\n",
        "                                nn.BatchNorm3d(num_features=20, track_running_stats=False),\n",
        "                                nn.ReLU(inplace=True))\n",
        "\n",
        "      #the first layer - convolution\n",
        "      conv_1_first = nn.Sequential(nn.Conv3d(in_channels=20, out_channels=20, kernel_size=4, stride=2, padding=2, bias=False),\n",
        "                                   nn.BatchNorm3d(num_features=20, track_running_stats=False),\n",
        "                                   nn.ReLU(inplace=True))\n",
        "      conv_2_first = nn.Sequential(nn.Conv3d(in_channels=20, out_channels=20, kernel_size=4, stride=2, padding=2, bias=False),\n",
        "                                   nn.BatchNorm3d(num_features=20, track_running_stats=False))\n",
        "      conv_3_first = nn.Sequential(nn.Conv3d(in_channels=20, out_channels=20, kernel_size=4, stride=2, padding=2, bias=False),\n",
        "                                   nn.BatchNorm3d(num_features=20, track_running_stats=False),\n",
        "                                   nn.ReLU(inplace=True))\n",
        "      conv_4_first = nn.Sequential(nn.Conv3d(in_channels=20, out_channels=20, kernel_size=4, stride=2, padding=2, bias=False),\n",
        "                                   nn.BatchNorm3d(num_features=20, track_running_stats=False))\n",
        "      self.layer_1 = nn.Sequential(conv_1_first, conv_2_first, nn.ReLU(), conv_3_first, conv_4_first, nn.ReLU())\n",
        "\n",
        "      #the second layer - convolution REMOVED DOWNSAMPLE\n",
        "      conv_1_second = nn.Sequential(nn.Conv3d(in_channels=20, out_channels=40, kernel_size=4, stride=2, padding=2, bias=False),\n",
        "                                    nn.BatchNorm3d(num_features=40, track_running_stats=False),\n",
        "                                    nn.ReLU(inplace=True))\n",
        "      conv_2_second = nn.Sequential(nn.Conv3d(in_channels=40, out_channels=40, kernel_size=4, stride=2, padding=2, bias=False),\n",
        "                                    nn.BatchNorm3d(num_features=40, track_running_stats=False))\n",
        "      #downsample = nn.Sequential(nn.Conv3d(in_channels=20, out_channels=40, kernel_size=4, stride=2, padding=2, bias=False),\n",
        "                                 #nn.BatchNorm3d(num_features=40, track_running_stats=False))\n",
        "      conv_3_second = nn.Sequential(nn.Conv3d(in_channels=40, out_channels=40, kernel_size=4, stride=2, padding=2, bias=False),\n",
        "                                    nn.BatchNorm3d(num_features=40, track_running_stats=False),\n",
        "                                    nn.ReLU(inplace=True))\n",
        "      conv_4_second = nn.Sequential(nn.Conv3d(in_channels=40, out_channels=40, kernel_size=4, stride=2, padding=2, bias=False),\n",
        "                                    nn.BatchNorm3d(num_features=40, track_running_stats=False))\n",
        "      self.layer_2 = nn.Sequential(conv_1_second, conv_2_second, nn.ReLU(), conv_3_second, conv_4_second, nn.ReLU())\n",
        "\n",
        "      #the third layer - avgpool\n",
        "      self.avgpool = nn.AdaptiveAvgPool3d(output_size=1)\n",
        "\n",
        "      #the fourth layer - classifier\n",
        "      self.classifier = nn.Linear(in_features=40, out_features=11, bias=True)\n",
        "\n",
        "  def forward(self, x):\n",
        "    return self.classifier(self.avgpool(self.layer_2(self.layer_1(self.stem(x)))).squeeze(-1).squeeze(-1).squeeze(-1))"
      ],
      "metadata": {
        "id": "yQUxNvuel7Wx"
      },
      "execution_count": null,
      "outputs": []
    },
    {
      "cell_type": "code",
      "source": [
        "#take a look at the model\n",
        "model_mini_r3d18 = MiniR3D18().to(device)\n",
        "torchinfo.summary(model_mini_r3d18, input_size=[1, 3, 50, 200, 300])"
      ],
      "metadata": {
        "id": "jr0orlnhmBOR",
        "colab": {
          "base_uri": "https://localhost:8080/"
        },
        "outputId": "e2950b7a-2040-4199-d590-57e9eb87b50d"
      },
      "execution_count": null,
      "outputs": [
        {
          "output_type": "stream",
          "name": "stderr",
          "text": [
            "/usr/local/lib/python3.10/dist-packages/torch/nn/modules/conv.py:605: UserWarning: Plan failed with a cudnnException: CUDNN_BACKEND_EXECUTION_PLAN_DESCRIPTOR: cudnnFinalize Descriptor Failed cudnn_status: CUDNN_STATUS_NOT_SUPPORTED (Triggered internally at ../aten/src/ATen/native/cudnn/Conv_v8.cpp:919.)\n",
            "  return F.conv3d(\n"
          ]
        },
        {
          "output_type": "execute_result",
          "data": {
            "text/plain": [
              "==========================================================================================\n",
              "Layer (type:depth-idx)                   Output Shape              Param #\n",
              "==========================================================================================\n",
              "MiniR3D18                                [1, 11]                   --\n",
              "├─Sequential: 1-1                        [1, 20, 26, 101, 151]     --\n",
              "│    └─Conv3d: 2-1                       [1, 20, 26, 101, 151]     3,840\n",
              "│    └─BatchNorm3d: 2-2                  [1, 20, 26, 101, 151]     40\n",
              "│    └─ReLU: 2-3                         [1, 20, 26, 101, 151]     --\n",
              "├─Sequential: 1-2                        [1, 20, 3, 8, 11]         --\n",
              "│    └─Sequential: 2-4                   [1, 20, 14, 51, 76]       --\n",
              "│    │    └─Conv3d: 3-1                  [1, 20, 14, 51, 76]       25,600\n",
              "│    │    └─BatchNorm3d: 3-2             [1, 20, 14, 51, 76]       40\n",
              "│    │    └─ReLU: 3-3                    [1, 20, 14, 51, 76]       --\n",
              "│    └─Sequential: 2-5                   [1, 20, 8, 26, 39]        --\n",
              "│    │    └─Conv3d: 3-4                  [1, 20, 8, 26, 39]        25,600\n",
              "│    │    └─BatchNorm3d: 3-5             [1, 20, 8, 26, 39]        40\n",
              "│    └─ReLU: 2-6                         [1, 20, 8, 26, 39]        --\n",
              "│    └─Sequential: 2-7                   [1, 20, 5, 14, 20]        --\n",
              "│    │    └─Conv3d: 3-6                  [1, 20, 5, 14, 20]        25,600\n",
              "│    │    └─BatchNorm3d: 3-7             [1, 20, 5, 14, 20]        40\n",
              "│    │    └─ReLU: 3-8                    [1, 20, 5, 14, 20]        --\n",
              "│    └─Sequential: 2-8                   [1, 20, 3, 8, 11]         --\n",
              "│    │    └─Conv3d: 3-9                  [1, 20, 3, 8, 11]         25,600\n",
              "│    │    └─BatchNorm3d: 3-10            [1, 20, 3, 8, 11]         40\n",
              "│    └─ReLU: 2-9                         [1, 20, 3, 8, 11]         --\n",
              "├─Sequential: 1-3                        [1, 40, 2, 2, 2]          --\n",
              "│    └─Sequential: 2-10                  [1, 40, 2, 5, 6]          --\n",
              "│    │    └─Conv3d: 3-11                 [1, 40, 2, 5, 6]          51,200\n",
              "│    │    └─BatchNorm3d: 3-12            [1, 40, 2, 5, 6]          80\n",
              "│    │    └─ReLU: 3-13                   [1, 40, 2, 5, 6]          --\n",
              "│    └─Sequential: 2-11                  [1, 40, 2, 3, 4]          --\n",
              "│    │    └─Conv3d: 3-14                 [1, 40, 2, 3, 4]          102,400\n",
              "│    │    └─BatchNorm3d: 3-15            [1, 40, 2, 3, 4]          80\n",
              "│    └─ReLU: 2-12                        [1, 40, 2, 3, 4]          --\n",
              "│    └─Sequential: 2-13                  [1, 40, 2, 2, 3]          --\n",
              "│    │    └─Conv3d: 3-16                 [1, 40, 2, 2, 3]          102,400\n",
              "│    │    └─BatchNorm3d: 3-17            [1, 40, 2, 2, 3]          80\n",
              "│    │    └─ReLU: 3-18                   [1, 40, 2, 2, 3]          --\n",
              "│    └─Sequential: 2-14                  [1, 40, 2, 2, 2]          --\n",
              "│    │    └─Conv3d: 3-19                 [1, 40, 2, 2, 2]          102,400\n",
              "│    │    └─BatchNorm3d: 3-20            [1, 40, 2, 2, 2]          80\n",
              "│    └─ReLU: 2-15                        [1, 40, 2, 2, 2]          --\n",
              "├─AdaptiveAvgPool3d: 1-4                 [1, 40, 1, 1, 1]          --\n",
              "├─Linear: 1-5                            [1, 11]                   451\n",
              "==========================================================================================\n",
              "Total params: 465,611\n",
              "Trainable params: 465,611\n",
              "Non-trainable params: 0\n",
              "Total mult-adds (G): 3.17\n",
              "==========================================================================================\n",
              "Input size (MB): 36.00\n",
              "Forward/backward pass size (MB): 147.45\n",
              "Params size (MB): 1.86\n",
              "Estimated Total Size (MB): 185.31\n",
              "=========================================================================================="
            ]
          },
          "metadata": {},
          "execution_count": 27
        }
      ]
    },
    {
      "cell_type": "markdown",
      "source": [
        "## Training and Testing Loops"
      ],
      "metadata": {
        "id": "-3RlF9fAmQS5"
      }
    },
    {
      "cell_type": "code",
      "source": [
        "from tqdm.auto import tqdm\n",
        "from timeit import default_timer as timer\n",
        "import torchmetrics\n",
        "import datetime"
      ],
      "metadata": {
        "id": "f0LEeHSAmfo6"
      },
      "execution_count": null,
      "outputs": []
    },
    {
      "cell_type": "code",
      "source": [
        "# MAKE TRAIN STEP\n",
        "def train_step(model: torch.nn.Module,\n",
        "               dataloader: torch.utils.data.DataLoader,\n",
        "               loss_fn: torch.nn.Module,\n",
        "               optimizer: torch.optim.Optimizer,\n",
        "               device=device):\n",
        "  model.train()\n",
        "\n",
        "  train_loss, train_acc = 0, 0\n",
        "\n",
        "  for batch, (X, y) in enumerate(dataloader):\n",
        "    X, y = X.to(torch.float32).to(device), y.to(device)\n",
        "\n",
        "    logits = model(X)\n",
        "    loss = loss_fn(logits, y)\n",
        "    train_loss += loss.item()\n",
        "\n",
        "    optimizer.zero_grad()\n",
        "    loss.backward()\n",
        "    optimizer.step()\n",
        "\n",
        "    pred_class = torch.softmax(logits, dim=1).argmax()\n",
        "    train_acc += (pred_class==y).sum().item()/len(logits)\n",
        "\n",
        "  train_loss /= len(dataloader)\n",
        "  train_acc /= len(dataloader)\n",
        "  return train_loss, train_acc"
      ],
      "metadata": {
        "id": "4VayVwrOmjEt"
      },
      "execution_count": null,
      "outputs": []
    },
    {
      "cell_type": "code",
      "source": [
        "# MAKE TEST STEP\n",
        "def test_step(model: torch.nn.Module,\n",
        "              dataloader: torch.utils.data.DataLoader,\n",
        "              loss_fn: torch.nn.Module,\n",
        "              device=device):\n",
        "  model.eval()\n",
        "\n",
        "  test_loss, test_acc = 0, 0\n",
        "\n",
        "  with torch.inference_mode():\n",
        "    for batch, (X, y) in enumerate(dataloader):\n",
        "      X, y = X.to(torch.float32).to(device), y.to(device)\n",
        "\n",
        "      logits = model(X)\n",
        "      loss = loss_fn(logits, y)\n",
        "      test_loss += loss.item()\n",
        "\n",
        "      pred_class = torch.softmax(logits, dim=1).argmax()\n",
        "      test_acc += (pred_class==y).sum().item()/len(logits)\n",
        "\n",
        "  test_loss /= len(dataloader)\n",
        "  test_acc /= len(dataloader)\n",
        "  return test_loss, test_acc"
      ],
      "metadata": {
        "id": "EmkgPivsmkm3"
      },
      "execution_count": null,
      "outputs": []
    },
    {
      "cell_type": "code",
      "source": [
        "def train_model(model: torch.nn.Module,\n",
        "                epochs: int,\n",
        "                train_dataloader: torch.utils.data.DataLoader,\n",
        "                test_dataloader: torch.utils.data.DataLoader,\n",
        "                loss_fn: torch.nn.Module,\n",
        "                optimizer: torch.optim.Optimizer):\n",
        "  start_time = timer()\n",
        "  store_results = {}\n",
        "\n",
        "  for epoch in tqdm(range(epochs)):\n",
        "    torch.cuda.empty_cache()\n",
        "    train_loss, train_acc = train_step(model=model,\n",
        "                                       dataloader=train_dataloader,\n",
        "                                       loss_fn=loss_fn,\n",
        "                                       optimizer=optimizer,\n",
        "                                       device=device)\n",
        "    torch.cuda.empty_cache()\n",
        "    test_loss, test_acc = test_step(model=model,\n",
        "                                    dataloader=test_dataloader,\n",
        "                                    loss_fn=loss_fn,\n",
        "                                    device=device)\n",
        "\n",
        "    store_results[epoch] = [train_loss, train_acc, test_loss, test_acc]\n",
        "    print(f\"Epoch: {epoch} ----------\")\n",
        "    print(f\"Train Loss: {train_loss:.4f} | Train Acc: {train_acc:.4f} | Test Loss: {test_loss:.4f} | Test Acc: {test_acc:.4f}\\n\")\n",
        "\n",
        "  end_time = timer()\n",
        "  train_time = datetime.timedelta(seconds = round(end_time-start_time))\n",
        "  print(f\"Total Training Time: {train_time}\")\n",
        "\n",
        "  return store_results, train_time"
      ],
      "metadata": {
        "id": "CunJ5w7BmmSe"
      },
      "execution_count": null,
      "outputs": []
    },
    {
      "cell_type": "markdown",
      "source": [
        "# Train the Model with Different Data Transformations"
      ],
      "metadata": {
        "id": "bQZU1AKTmppk"
      }
    },
    {
      "cell_type": "code",
      "source": [
        "os.mkdir('saved_models')"
      ],
      "metadata": {
        "id": "jcKQXbLGqW4h"
      },
      "execution_count": null,
      "outputs": []
    },
    {
      "cell_type": "markdown",
      "source": [
        "### Custom Dimensions"
      ],
      "metadata": {
        "id": "WOthaMQnnEsz"
      }
    },
    {
      "cell_type": "code",
      "source": [
        "def get_dataloaders_custom_dimensions(input_video_path: str,\n",
        "                                      output_video_path: str,\n",
        "                                      BATCH_SIZE: int = 1,\n",
        "                                      NUM_WORKERS: int = 0):\n",
        "  height = int(input('What height for the videos?'))\n",
        "  width = int(input('What width for the videos?'))\n",
        "\n",
        "  #Prep and test the transformations\n",
        "  custom_dimensions_transform = transforms.Compose([ #input is THWC\n",
        "    pytorchvideo.transforms.Permute((0,3,1,2)),\n",
        "    transforms.Resize((height, width)), #takes TCHW\n",
        "    transforms.RandomHorizontalFlip(p=0.5), #takes TCHW\n",
        "    pytorchvideo.transforms.Permute((1,0,2,3)) #return CTHW\n",
        "  ])\n",
        "  print('Testing the transformation before the model runs')\n",
        "  test_transformation(video_path=input_video_path,\n",
        "                      transformation=custom_dimensions_transform,\n",
        "                      output_path=output_video_path)\n",
        "\n",
        "\n",
        "  #Prep the Datasets and DataLoaders\n",
        "  train_dataset_custom = VideoFolder(train_dir, custom_dimensions_transform)\n",
        "  test_dataset_custom = VideoFolder(test_dir, custom_dimensions_transform)\n",
        "  train_dataloader_custom = DataLoader(dataset=train_dataset_custom,\n",
        "                                       batch_size=BATCH_SIZE,\n",
        "                                       num_workers=NUM_WORKERS,\n",
        "                                       shuffle=True)\n",
        "  test_dataloader_custom = DataLoader(dataset=test_dataset_custom,\n",
        "                                      batch_size=BATCH_SIZE,\n",
        "                                      num_workers=NUM_WORKERS,\n",
        "                                      shuffle=False)\n",
        "  return train_dataloader_custom, test_dataloader_custom"
      ],
      "metadata": {
        "id": "bBanYYDWnPYc"
      },
      "execution_count": null,
      "outputs": []
    },
    {
      "cell_type": "code",
      "source": [
        "train_dataloader_custom, test_dataloader_custom = get_dataloaders_custom_dimensions(\n",
        "    input_video_path=video_path,\n",
        "    output_video_path='/content/test_transformations/train_custom_transformation_output.mpg')\n",
        "\n",
        "NUM_EPOCHS_custom = 10\n",
        "mini_r3d18_custom = MiniR3D18().to(device)\n",
        "loss_fn_custom = nn.CrossEntropyLoss()\n",
        "optimizer_custom = torch.optim.SGD(params=mini_r3d18_custom.parameters(), lr=0.01)\n",
        "\n",
        "results_custom, train_time_custom = train_model(model = mini_r3d18_custom,\n",
        "                                                epochs=NUM_EPOCHS_custom,\n",
        "                                                train_dataloader=train_dataloader_custom,\n",
        "                                                test_dataloader=test_dataloader_custom,\n",
        "                                                loss_fn=loss_fn_custom,\n",
        "                                                optimizer=optimizer_custom)"
      ],
      "metadata": {
        "id": "ZfZioLVCppQF",
        "colab": {
          "base_uri": "https://localhost:8080/",
          "height": 748,
          "referenced_widgets": [
            "fcb161276add4a80850d48fa4ecf1bad",
            "1db5c4104f0743c3b0e266ccb1349c34",
            "cc3ee8bc01cc4f69b4b010f1c09a94e2",
            "20d7483612224ffba33c99321549348b",
            "939ed4a815d1469e81cc83356a249ea5",
            "a53486fbaad049448c9e602049e59966",
            "99335251942f42e2a0d8c4698af6d9ee",
            "e077d1f128044ca08ecbbece598a8615",
            "8081cabffcef433487303b66d510d816",
            "3eaaf11119f346c8abfa1e1fce6b2f34",
            "52e5a8664bd04bd88994c166302c9d98"
          ]
        },
        "outputId": "6203c510-bde7-4634-8faa-3f128ca5f1a5"
      },
      "execution_count": null,
      "outputs": [
        {
          "output_type": "stream",
          "name": "stdout",
          "text": [
            "What height for the videos?100\n",
            "What width for the videos?100\n",
            "Testing the transformation before the model runs\n",
            "Loaded video shape: torch.Size([135, 240, 320, 3])\n",
            "Transformed video shape: torch.Size([135, 100, 100, 3])\n"
          ]
        },
        {
          "output_type": "stream",
          "name": "stderr",
          "text": [
            "/usr/local/lib/python3.10/dist-packages/torchvision/transforms/functional.py:1603: UserWarning: The default value of the antialias parameter of all the resizing transforms (Resize(), RandomResizedCrop(), etc.) will change from None to True in v0.17, in order to be consistent across the PIL and Tensor backends. To suppress this warning, directly pass antialias=True (recommended, future default), antialias=None (current default, which means False for Tensors and True for PIL), or antialias=False (only works on Tensors - PIL will still use antialiasing). This also applies if you are using the inference transforms from the models weights: update the call to weights.transforms(antialias=True).\n",
            "  warnings.warn(\n"
          ]
        },
        {
          "output_type": "display_data",
          "data": {
            "text/plain": [
              "  0%|          | 0/10 [00:00<?, ?it/s]"
            ],
            "application/vnd.jupyter.widget-view+json": {
              "version_major": 2,
              "version_minor": 0,
              "model_id": "fcb161276add4a80850d48fa4ecf1bad"
            }
          },
          "metadata": {}
        },
        {
          "output_type": "stream",
          "name": "stdout",
          "text": [
            "Epoch: 0 ----------\n",
            "Train Loss: 2.3803 | Train Acc: 0.1240 | Test Loss: 2.3413 | Test Acc: 0.1258\n",
            "\n",
            "Epoch: 1 ----------\n",
            "Train Loss: 2.3090 | Train Acc: 0.1617 | Test Loss: 2.2826 | Test Acc: 0.2086\n",
            "\n",
            "Epoch: 2 ----------\n",
            "Train Loss: 2.2397 | Train Acc: 0.2119 | Test Loss: 2.2154 | Test Acc: 0.2239\n",
            "\n",
            "Epoch: 3 ----------\n",
            "Train Loss: 2.1732 | Train Acc: 0.2488 | Test Loss: 2.2021 | Test Acc: 0.2362\n",
            "\n",
            "Epoch: 4 ----------\n",
            "Train Loss: 2.1288 | Train Acc: 0.2488 | Test Loss: 2.1314 | Test Acc: 0.2393\n",
            "\n",
            "Epoch: 5 ----------\n",
            "Train Loss: 2.0700 | Train Acc: 0.2567 | Test Loss: 2.0564 | Test Acc: 0.2546\n",
            "\n",
            "Epoch: 6 ----------\n",
            "Train Loss: 2.0356 | Train Acc: 0.2590 | Test Loss: 2.0107 | Test Acc: 0.2607\n",
            "\n",
            "Epoch: 7 ----------\n",
            "Train Loss: 2.0072 | Train Acc: 0.2826 | Test Loss: 2.0390 | Test Acc: 0.2730\n",
            "\n",
            "Epoch: 8 ----------\n",
            "Train Loss: 1.9724 | Train Acc: 0.2818 | Test Loss: 2.0007 | Test Acc: 0.2362\n",
            "\n",
            "Epoch: 9 ----------\n",
            "Train Loss: 1.9114 | Train Acc: 0.2920 | Test Loss: 1.9374 | Test Acc: 0.3190\n",
            "\n",
            "Total Training Time: 0:58:49\n"
          ]
        }
      ]
    },
    {
      "cell_type": "code",
      "source": [
        "#save the model\n",
        "model_custom_path = '/content/saved_models/model_custom_dimensions.pth'\n",
        "torch.save(obj=mini_r3d18_custom.state_dict(), f=model_custom_path)"
      ],
      "metadata": {
        "id": "7lA-tIeIqb1t"
      },
      "execution_count": null,
      "outputs": []
    },
    {
      "cell_type": "markdown",
      "source": [
        "## 0.1 Proportion Crop Transformation"
      ],
      "metadata": {
        "id": "4rPmGjyl7SZi"
      }
    },
    {
      "cell_type": "code",
      "source": [
        "#create the parameters\n",
        "NUM_EPOCHS_1proportion = 10\n",
        "mini_r3d18_1proportion = MiniR3D18().to(device)\n",
        "loss_fn_1proportion = nn.CrossEntropyLoss()\n",
        "optimizer_1proportion = torch.optim.SGD(params=mini_r3d18_1proportion.parameters(), lr=0.01)\n",
        "\n",
        "#run the model\n",
        "results_1proportion, train_time_1proportion = train_model(\n",
        "    model=mini_r3d18_1proportion,\n",
        "    epochs=NUM_EPOCHS_1proportion,\n",
        "    train_dataloader=train_dataloader_1proportion,\n",
        "    test_dataloader=test_dataloader_1proportion,\n",
        "    loss_fn=loss_fn_1proportion,\n",
        "    optimizer=optimizer_1proportion)\n",
        "\n",
        "#save the model\n",
        "model_1proportion_path = '/content/saved_models/model_1proportion.pth'\n",
        "torch.save(obj=mini_r3d18_1proportion.state_dict(), f=model_1proportion_path)"
      ],
      "metadata": {
        "id": "NmJu6zrU7V71",
        "colab": {
          "base_uri": "https://localhost:8080/",
          "height": 603,
          "referenced_widgets": [
            "88899e82111442bbb2e77b4ce77cb1a7",
            "792939cd00364b50862c647883ca7e79",
            "7644be87f94d42748e6c380662c3bcb4",
            "1fcb89a31ecd4f79be86398b85898cd1",
            "78134ff8c1cc4606a933359ab13d25de",
            "b03de0b3149343658905c5f9cea2864a",
            "db511e66706d47d9ad0f50717fb56bb6",
            "cdc5e75123c64bcc845cff0383cced8f",
            "0b57147bdb9a4cdba3c8a8aab306c355",
            "eb759b0ce9aa478ca3698713fcb18490",
            "c9f5373bd31e4fb38aa724fba87b8a4e"
          ]
        },
        "outputId": "fc60cb7f-f451-455e-c6a9-a1e2fc18fbde"
      },
      "execution_count": null,
      "outputs": [
        {
          "output_type": "display_data",
          "data": {
            "text/plain": [
              "  0%|          | 0/10 [00:00<?, ?it/s]"
            ],
            "application/vnd.jupyter.widget-view+json": {
              "version_major": 2,
              "version_minor": 0,
              "model_id": "88899e82111442bbb2e77b4ce77cb1a7"
            }
          },
          "metadata": {}
        },
        {
          "output_type": "stream",
          "name": "stdout",
          "text": [
            "Epoch: 0 ----------\n",
            "Train Loss: 2.3737 | Train Acc: 0.1523 | Test Loss: 2.3419 | Test Acc: 0.1933\n",
            "\n",
            "Epoch: 1 ----------\n",
            "Train Loss: 2.2835 | Train Acc: 0.2072 | Test Loss: 2.2156 | Test Acc: 0.2393\n",
            "\n",
            "Epoch: 2 ----------\n",
            "Train Loss: 2.2090 | Train Acc: 0.2268 | Test Loss: 2.2092 | Test Acc: 0.2393\n",
            "\n",
            "Epoch: 3 ----------\n",
            "Train Loss: 2.1662 | Train Acc: 0.2410 | Test Loss: 2.1136 | Test Acc: 0.2761\n",
            "\n",
            "Epoch: 4 ----------\n",
            "Train Loss: 2.0603 | Train Acc: 0.3038 | Test Loss: 1.9887 | Test Acc: 0.3221\n",
            "\n",
            "Epoch: 5 ----------\n",
            "Train Loss: 1.9614 | Train Acc: 0.3446 | Test Loss: 1.9073 | Test Acc: 0.3497\n",
            "\n",
            "Epoch: 6 ----------\n",
            "Train Loss: 1.8213 | Train Acc: 0.3925 | Test Loss: 1.8380 | Test Acc: 0.3712\n",
            "\n",
            "Epoch: 7 ----------\n",
            "Train Loss: 1.6519 | Train Acc: 0.4686 | Test Loss: 1.6093 | Test Acc: 0.5061\n",
            "\n",
            "Epoch: 8 ----------\n",
            "Train Loss: 1.4829 | Train Acc: 0.5157 | Test Loss: 1.5008 | Test Acc: 0.4908\n",
            "\n",
            "Epoch: 9 ----------\n",
            "Train Loss: 1.2722 | Train Acc: 0.6036 | Test Loss: 1.2825 | Test Acc: 0.5399\n",
            "\n",
            "Total Training Time: 1:26:27\n"
          ]
        }
      ]
    },
    {
      "cell_type": "markdown",
      "source": [
        "#Graph the Results"
      ],
      "metadata": {
        "id": "63p_lkFqq-bv"
      }
    },
    {
      "cell_type": "code",
      "source": [
        "import pandas as pd\n",
        "import matplotlib.pyplot as plt"
      ],
      "metadata": {
        "id": "-q3ffg6wrBAm"
      },
      "execution_count": null,
      "outputs": []
    },
    {
      "cell_type": "code",
      "source": [
        "columns = ['Train Loss', 'Train Accuracy', 'Test Loss', 'Test Accuracy']\n",
        "\n",
        "#AS WE TRAIN MORE, MAKE MORE DATAFRAMES AND ADD TO THE DICTIONARY LISTS\n",
        "\n",
        "df_custom = pd.DataFrame.from_dict(\n",
        "    results_custom,\n",
        "    orient='index',\n",
        "    columns=columns)\n",
        "df_1proportion = pd.DataFrame.from_dict(\n",
        "    results_1proportion,\n",
        "    orient='index',\n",
        "    columns=columns)\n",
        "\n",
        "graph_dict = {'Names': ['Custom', '0.1 Proportion Cropped'],\n",
        "              'Epochs': [NUM_EPOCHS_custom, NUM_EPOCHS_1proportion],\n",
        "              'DataFrames': [df_custom, df_1proportion],\n",
        "              'Times': [train_time_custom.seconds, train_time_1proportion.seconds]}"
      ],
      "metadata": {
        "id": "dMbe4rFDrCEQ"
      },
      "execution_count": null,
      "outputs": []
    },
    {
      "cell_type": "code",
      "source": [
        "plt.figure(figsize=(15,10))\n",
        "\n",
        "for i, label in enumerate(columns):\n",
        "  plt.subplot(2,2,i+1)\n",
        "\n",
        "  for j, name in enumerate(graph_dict['Names']):\n",
        "    plt.plot(range(1, graph_dict['Epochs'][j]+1),\n",
        "             graph_dict['DataFrames'][j][label].tolist(),\n",
        "             label = name)\n",
        "\n",
        "  plt.title(f\"{label} Curves\")\n",
        "  plt.xlabel(\"Epochs\")\n",
        "  plt.legend()\n",
        "\n",
        "plt.figure(figsize=(10, 5))\n",
        "\n",
        "for i, time in enumerate(graph_dict['Times']):\n",
        "  graph_dict['Times'][i] = time / 3600\n",
        "plt.bar(graph_dict['Names'], graph_dict['Times'])\n",
        "plt.ylabel(\"Time (Hours)\")\n",
        "plt.title(\"Model Training Time on Different Data\")\n",
        "plt.show()"
      ],
      "metadata": {
        "id": "koWwXarqrRFd",
        "colab": {
          "base_uri": "https://localhost:8080/",
          "height": 1000
        },
        "outputId": "2bc3f1a7-68f3-40be-8129-eba34b4fd055"
      },
      "execution_count": null,
      "outputs": [
        {
          "output_type": "display_data",
          "data": {
            "text/plain": [
              "<Figure size 1500x1000 with 4 Axes>"
            ],
            "image/png": "[encoded data removed]"
          },
          "metadata": {}
        },
        {
          "output_type": "display_data",
          "data": {
            "text/plain": [
              "<Figure size 1000x500 with 1 Axes>"
            ],
            "image/png": "[encoded data removed]"
          },
          "metadata": {}
        }
      ]
    }
  ]
}